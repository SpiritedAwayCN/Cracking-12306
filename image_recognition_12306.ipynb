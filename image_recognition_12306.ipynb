{
 "cells": [
  {
   "cell_type": "code",
   "execution_count": 1,
   "metadata": {
    "colab": {
     "base_uri": "https://localhost:8080/"
    },
    "id": "5MqBb7Az54Vy",
    "outputId": "199d98c3-b258-44c2-d33e-b993f4ec783e"
   },
   "outputs": [
    {
     "name": "stdout",
     "output_type": "stream",
     "text": [
      "Mounted at /gdrive\n"
     ]
    }
   ],
   "source": [
    "from google.colab import drive\n",
    "drive.mount('/gdrive')"
   ]
  },
  {
   "cell_type": "code",
   "execution_count": 2,
   "metadata": {
    "colab": {
     "base_uri": "https://localhost:8080/"
    },
    "id": "JMrNlXg860t4",
    "outputId": "d26b8677-ea98-40c5-d5dd-cdb49d1a1d2d"
   },
   "outputs": [
    {
     "name": "stdout",
     "output_type": "stream",
     "text": [
      "Cloning into 'Cracking-12306'...\n",
      "remote: Enumerating objects: 211, done.\u001b[K\n",
      "remote: Counting objects: 100% (211/211), done.\u001b[K\n",
      "remote: Compressing objects: 100% (145/145), done.\u001b[K\n",
      "remote: Total 211 (delta 101), reused 164 (delta 54), pack-reused 0\u001b[K\n",
      "Receiving objects: 100% (211/211), 3.43 MiB | 14.75 MiB/s, done.\n",
      "Resolving deltas: 100% (101/101), done.\n"
     ]
    }
   ],
   "source": [
    "!git clone https://4ce882a22b0a009b28bc87447910cafe5f4a82cc@github.com/SpiritedAwayCN/Cracking-12306"
   ]
  },
  {
   "cell_type": "code",
   "execution_count": 4,
   "metadata": {
    "colab": {
     "base_uri": "https://localhost:8080/"
    },
    "id": "Ndp_FpwT9qOm",
    "outputId": "67c828c1-af4c-4fb0-a282-ca28ebe83eb7"
   },
   "outputs": [
    {
     "name": "stdout",
     "output_type": "stream",
     "text": [
      "/content/Cracking-12306\n"
     ]
    }
   ],
   "source": [
    "%cd Cracking-12306/"
   ]
  },
  {
   "cell_type": "code",
   "execution_count": 5,
   "metadata": {
    "id": "Bs1dkNGU9vBP"
   },
   "outputs": [],
   "source": [
    "!cp /gdrive/MyDrive/dataset/archive-20210413.tar.gz ./archive.tar.gz"
   ]
  },
  {
   "cell_type": "code",
   "execution_count": 6,
   "metadata": {
    "id": "QV6DKNcG93vR"
   },
   "outputs": [],
   "source": [
    "!tar -xzf ./archive.tar.gz"
   ]
  },
  {
   "cell_type": "markdown",
   "metadata": {
    "id": "rhM-XQZJKxrx"
   },
   "source": []
  },
  {
   "cell_type": "code",
   "execution_count": 3,
   "metadata": {
    "colab": {
     "base_uri": "https://localhost:8080/"
    },
    "id": "csXttHNE9_Y2",
    "outputId": "5cec7bd2-7d8c-48e2-88e2-b3e0b581be70"
   },
   "outputs": [
    {
     "name": "stdout",
     "output_type": "stream",
     "text": [
      "/content\n"
     ]
    }
   ],
   "source": [
    "!pwd"
   ]
  },
  {
   "cell_type": "code",
   "execution_count": null,
   "metadata": {
    "colab": {
     "base_uri": "https://localhost:8080/"
    },
    "id": "4bUTzsBQlBDs",
    "outputId": "45044994-fdb0-4a60-d62d-84ce677ff283"
   },
   "outputs": [
    {
     "name": "stdout",
     "output_type": "stream",
     "text": [
      "remote: Enumerating objects: 20, done.\u001b[K\n",
      "remote: Counting objects:   5% (1/20)\u001b[K\r",
      "remote: Counting objects:  10% (2/20)\u001b[K\r",
      "remote: Counting objects:  15% (3/20)\u001b[K\r",
      "remote: Counting objects:  20% (4/20)\u001b[K\r",
      "remote: Counting objects:  25% (5/20)\u001b[K\r",
      "remote: Counting objects:  30% (6/20)\u001b[K\r",
      "remote: Counting objects:  35% (7/20)\u001b[K\r",
      "remote: Counting objects:  40% (8/20)\u001b[K\r",
      "remote: Counting objects:  45% (9/20)\u001b[K\r",
      "remote: Counting objects:  50% (10/20)\u001b[K\r",
      "remote: Counting objects:  55% (11/20)\u001b[K\r",
      "remote: Counting objects:  60% (12/20)\u001b[K\r",
      "remote: Counting objects:  65% (13/20)\u001b[K\r",
      "remote: Counting objects:  70% (14/20)\u001b[K\r",
      "remote: Counting objects:  75% (15/20)\u001b[K\r",
      "remote: Counting objects:  80% (16/20)\u001b[K\r",
      "remote: Counting objects:  85% (17/20)\u001b[K\r",
      "remote: Counting objects:  90% (18/20)\u001b[K\r",
      "remote: Counting objects:  95% (19/20)\u001b[K\r",
      "remote: Counting objects: 100% (20/20)\u001b[K\r",
      "remote: Counting objects: 100% (20/20), done.\u001b[K\n",
      "remote: Compressing objects:  33% (1/3)\u001b[K\r",
      "remote: Compressing objects:  66% (2/3)\u001b[K\r",
      "remote: Compressing objects: 100% (3/3)\u001b[K\r",
      "remote: Compressing objects: 100% (3/3), done.\u001b[K\n",
      "remote: Total 11 (delta 7), reused 11 (delta 7), pack-reused 0\u001b[K\n",
      "Unpacking objects:   9% (1/11)   \r",
      "Unpacking objects:  18% (2/11)   \r",
      "Unpacking objects:  27% (3/11)   \r",
      "Unpacking objects:  36% (4/11)   \r",
      "Unpacking objects:  45% (5/11)   \r",
      "Unpacking objects:  54% (6/11)   \r",
      "Unpacking objects:  63% (7/11)   \r",
      "Unpacking objects:  72% (8/11)   \r",
      "Unpacking objects:  81% (9/11)   \r",
      "Unpacking objects:  90% (10/11)   \r",
      "Unpacking objects: 100% (11/11)   \r",
      "Unpacking objects: 100% (11/11), done.\n",
      "From https://github.com/SpiritedAwayCN/Cracking-12306\n",
      "   a0d1bb7..45a962a  train_all  -> origin/train_all\n",
      "   acab6e1..7169f42  master     -> origin/master\n",
      "Updating a0d1bb7..45a962a\n",
      "Fast-forward\n",
      " constants.py                 | 4 \u001b[32m++\u001b[m\u001b[31m--\u001b[m\n",
      " metadata/train_label_all.txt | 1 \u001b[31m-\u001b[m\n",
      " 2 files changed, 2 insertions(+), 3 deletions(-)\n"
     ]
    }
   ],
   "source": [
    "!git pull"
   ]
  },
  {
   "cell_type": "code",
   "execution_count": null,
   "metadata": {
    "colab": {
     "base_uri": "https://localhost:8080/"
    },
    "id": "vnxCQ1kj-eKr",
    "outputId": "67b2a22c-cda5-4c2e-fc47-b00c3a7c18ac"
   },
   "outputs": [
    {
     "name": "stdout",
     "output_type": "stream",
     "text": [
      "2021-04-15 06:09:43.138891: I tensorflow/stream_executor/platform/default/dso_loader.cc:49] Successfully opened dynamic library libcudart.so.11.0\n",
      "2021-04-15 06:09:45.781926: I tensorflow/compiler/jit/xla_cpu_device.cc:41] Not creating XLA devices, tf_xla_enable_xla_devices not set\n",
      "2021-04-15 06:09:45.783138: I tensorflow/stream_executor/platform/default/dso_loader.cc:49] Successfully opened dynamic library libcuda.so.1\n",
      "2021-04-15 06:09:45.853531: I tensorflow/stream_executor/cuda/cuda_gpu_executor.cc:941] successful NUMA node read from SysFS had negative value (-1), but there must be at least one NUMA node, so returning NUMA node zero\n",
      "2021-04-15 06:09:45.854370: I tensorflow/core/common_runtime/gpu/gpu_device.cc:1720] Found device 0 with properties: \n",
      "pciBusID: 0000:00:04.0 name: Tesla K80 computeCapability: 3.7\n",
      "coreClock: 0.8235GHz coreCount: 13 deviceMemorySize: 11.17GiB deviceMemoryBandwidth: 223.96GiB/s\n",
      "2021-04-15 06:09:45.854418: I tensorflow/stream_executor/platform/default/dso_loader.cc:49] Successfully opened dynamic library libcudart.so.11.0\n",
      "2021-04-15 06:09:45.989037: I tensorflow/stream_executor/platform/default/dso_loader.cc:49] Successfully opened dynamic library libcublas.so.11\n",
      "2021-04-15 06:09:45.989194: I tensorflow/stream_executor/platform/default/dso_loader.cc:49] Successfully opened dynamic library libcublasLt.so.11\n",
      "2021-04-15 06:09:46.121790: I tensorflow/stream_executor/platform/default/dso_loader.cc:49] Successfully opened dynamic library libcufft.so.10\n",
      "2021-04-15 06:09:46.164394: I tensorflow/stream_executor/platform/default/dso_loader.cc:49] Successfully opened dynamic library libcurand.so.10\n",
      "2021-04-15 06:09:46.416857: I tensorflow/stream_executor/platform/default/dso_loader.cc:49] Successfully opened dynamic library libcusolver.so.10\n",
      "2021-04-15 06:09:46.464420: I tensorflow/stream_executor/platform/default/dso_loader.cc:49] Successfully opened dynamic library libcusparse.so.11\n",
      "2021-04-15 06:09:46.468817: I tensorflow/stream_executor/platform/default/dso_loader.cc:49] Successfully opened dynamic library libcudnn.so.8\n",
      "2021-04-15 06:09:46.469000: I tensorflow/stream_executor/cuda/cuda_gpu_executor.cc:941] successful NUMA node read from SysFS had negative value (-1), but there must be at least one NUMA node, so returning NUMA node zero\n",
      "2021-04-15 06:09:46.469954: I tensorflow/stream_executor/cuda/cuda_gpu_executor.cc:941] successful NUMA node read from SysFS had negative value (-1), but there must be at least one NUMA node, so returning NUMA node zero\n",
      "2021-04-15 06:09:46.473929: I tensorflow/core/common_runtime/gpu/gpu_device.cc:1862] Adding visible gpu devices: 0\n",
      "2021-04-15 06:09:46.474663: I tensorflow/compiler/jit/xla_gpu_device.cc:99] Not creating XLA devices, tf_xla_enable_xla_devices not set\n",
      "2021-04-15 06:09:46.474837: I tensorflow/stream_executor/cuda/cuda_gpu_executor.cc:941] successful NUMA node read from SysFS had negative value (-1), but there must be at least one NUMA node, so returning NUMA node zero\n",
      "2021-04-15 06:09:46.475671: I tensorflow/core/common_runtime/gpu/gpu_device.cc:1720] Found device 0 with properties: \n",
      "pciBusID: 0000:00:04.0 name: Tesla K80 computeCapability: 3.7\n",
      "coreClock: 0.8235GHz coreCount: 13 deviceMemorySize: 11.17GiB deviceMemoryBandwidth: 223.96GiB/s\n",
      "2021-04-15 06:09:46.475711: I tensorflow/stream_executor/platform/default/dso_loader.cc:49] Successfully opened dynamic library libcudart.so.11.0\n",
      "2021-04-15 06:09:46.475794: I tensorflow/stream_executor/platform/default/dso_loader.cc:49] Successfully opened dynamic library libcublas.so.11\n",
      "2021-04-15 06:09:46.475830: I tensorflow/stream_executor/platform/default/dso_loader.cc:49] Successfully opened dynamic library libcublasLt.so.11\n",
      "2021-04-15 06:09:46.475892: I tensorflow/stream_executor/platform/default/dso_loader.cc:49] Successfully opened dynamic library libcufft.so.10\n",
      "2021-04-15 06:09:46.475948: I tensorflow/stream_executor/platform/default/dso_loader.cc:49] Successfully opened dynamic library libcurand.so.10\n",
      "2021-04-15 06:09:46.475994: I tensorflow/stream_executor/platform/default/dso_loader.cc:49] Successfully opened dynamic library libcusolver.so.10\n",
      "2021-04-15 06:09:46.476033: I tensorflow/stream_executor/platform/default/dso_loader.cc:49] Successfully opened dynamic library libcusparse.so.11\n",
      "2021-04-15 06:09:46.476071: I tensorflow/stream_executor/platform/default/dso_loader.cc:49] Successfully opened dynamic library libcudnn.so.8\n",
      "2021-04-15 06:09:46.476179: I tensorflow/stream_executor/cuda/cuda_gpu_executor.cc:941] successful NUMA node read from SysFS had negative value (-1), but there must be at least one NUMA node, so returning NUMA node zero\n",
      "2021-04-15 06:09:46.477093: I tensorflow/stream_executor/cuda/cuda_gpu_executor.cc:941] successful NUMA node read from SysFS had negative value (-1), but there must be at least one NUMA node, so returning NUMA node zero\n",
      "2021-04-15 06:09:46.477861: I tensorflow/core/common_runtime/gpu/gpu_device.cc:1862] Adding visible gpu devices: 0\n",
      "2021-04-15 06:09:46.480635: I tensorflow/stream_executor/platform/default/dso_loader.cc:49] Successfully opened dynamic library libcudart.so.11.0\n",
      "2021-04-15 06:09:50.780361: I tensorflow/core/common_runtime/gpu/gpu_device.cc:1261] Device interconnect StreamExecutor with strength 1 edge matrix:\n",
      "2021-04-15 06:09:50.780424: I tensorflow/core/common_runtime/gpu/gpu_device.cc:1267]      0 \n",
      "2021-04-15 06:09:50.780457: I tensorflow/core/common_runtime/gpu/gpu_device.cc:1280] 0:   N \n",
      "2021-04-15 06:09:50.786100: I tensorflow/stream_executor/cuda/cuda_gpu_executor.cc:941] successful NUMA node read from SysFS had negative value (-1), but there must be at least one NUMA node, so returning NUMA node zero\n",
      "2021-04-15 06:09:50.786911: I tensorflow/stream_executor/cuda/cuda_gpu_executor.cc:941] successful NUMA node read from SysFS had negative value (-1), but there must be at least one NUMA node, so returning NUMA node zero\n",
      "2021-04-15 06:09:50.787711: I tensorflow/stream_executor/cuda/cuda_gpu_executor.cc:941] successful NUMA node read from SysFS had negative value (-1), but there must be at least one NUMA node, so returning NUMA node zero\n",
      "2021-04-15 06:09:50.788425: W tensorflow/core/common_runtime/gpu/gpu_bfc_allocator.cc:39] Overriding allow_growth setting because the TF_FORCE_GPU_ALLOW_GROWTH environment variable is set. Original config value was 0.\n",
      "2021-04-15 06:09:50.788492: I tensorflow/core/common_runtime/gpu/gpu_device.cc:1406] Created TensorFlow device (/job:localhost/replica:0/task:0/device:GPU:0 with 10637 MB memory) -> physical GPU (device: 0, name: Tesla K80, pci bus id: 0000:00:04.0, compute capability: 3.7)\n",
      "2021-04-15 06:09:52.488052: I tensorflow/compiler/mlir/mlir_graph_optimization_pass.cc:116] None of the MLIR optimization passes are enabled (registered 2)\n",
      "2021-04-15 06:09:52.489897: I tensorflow/core/platform/profile_utils/cpu_utils.cc:112] CPU Frequency: 2199995000 Hz\n",
      "  0% 0/183 [00:00<?, ?it/s]2021-04-15 06:09:58.448635: I tensorflow/stream_executor/platform/default/dso_loader.cc:49] Successfully opened dynamic library libcublas.so.11\n",
      "2021-04-15 06:10:00.474107: I tensorflow/stream_executor/platform/default/dso_loader.cc:49] Successfully opened dynamic library libcublasLt.so.11\n",
      "2021-04-15 06:10:00.534584: I tensorflow/stream_executor/platform/default/dso_loader.cc:49] Successfully opened dynamic library libcudnn.so.8\n",
      "100% 183/183 [01:06<00:00,  2.74it/s, loss: 5.2057, accurancy: 0.1250]\n",
      "testing...\n",
      "100% 20/20 [00:03<00:00,  6.11it/s, ce: 3.1956, accuracy: 0.3158]\n",
      "accuracy 0.1675\n",
      "Epoch 1/50\n",
      "100% 183/183 [00:37<00:00,  4.86it/s, loss: 4.4296, accurancy: 0.2812]\n",
      "testing...\n",
      "100% 20/20 [00:01<00:00, 16.97it/s, ce: 3.1726, accuracy: 0.3158]\n",
      "accuracy 0.2121\n",
      "Epoch 2/50\n",
      "100% 183/183 [00:32<00:00,  5.71it/s, loss: 3.9608, accurancy: 0.3750]\n",
      "testing...\n",
      "100% 20/20 [00:01<00:00, 17.22it/s, ce: 2.5406, accuracy: 0.5263]\n",
      "accuracy 0.3278\n",
      "Epoch 3/50\n",
      "100% 183/183 [00:32<00:00,  5.71it/s, loss: 3.4499, accurancy: 0.5312]\n",
      "testing...\n",
      "100% 20/20 [00:01<00:00, 17.27it/s, ce: 2.3660, accuracy: 0.5526]\n",
      "accuracy 0.4139\n",
      "Epoch 4/50\n",
      "100% 183/183 [00:32<00:00,  5.71it/s, loss: 3.4592, accurancy: 0.4688]\n",
      "testing...\n",
      "100% 20/20 [00:01<00:00, 17.35it/s, ce: 2.0616, accuracy: 0.6316]\n",
      "accuracy 0.3955\n",
      "Epoch 5/50\n",
      "100% 183/183 [00:32<00:00,  5.71it/s, loss: 2.9672, accurancy: 0.5625]\n",
      "testing...\n",
      "100% 20/20 [00:01<00:00, 17.43it/s, ce: 1.7276, accuracy: 0.7632]\n",
      "accuracy 0.5167\n",
      "Epoch 6/50\n",
      "100% 183/183 [00:32<00:00,  5.72it/s, loss: 2.7045, accurancy: 0.6562]\n",
      "testing...\n",
      "100% 20/20 [00:01<00:00, 16.93it/s, ce: 1.5797, accuracy: 0.7895]\n",
      "accuracy 0.5470\n",
      "Epoch 7/50\n",
      "100% 183/183 [00:32<00:00,  5.71it/s, loss: 2.9614, accurancy: 0.5625]\n",
      "testing...\n",
      "100% 20/20 [00:01<00:00, 17.16it/s, ce: 1.6204, accuracy: 0.7368]\n",
      "accuracy 0.5734\n",
      "Epoch 8/50\n",
      "100% 183/183 [00:31<00:00,  5.72it/s, loss: 2.7636, accurancy: 0.5469]\n",
      "testing...\n",
      "100% 20/20 [00:01<00:00, 17.32it/s, ce: 1.5315, accuracy: 0.8421]\n",
      "accuracy 0.5869\n",
      "Epoch 9/50\n",
      "100% 183/183 [00:32<00:00,  5.71it/s, loss: 2.5146, accurancy: 0.6094]\n",
      "testing...\n",
      "100% 20/20 [00:01<00:00, 17.49it/s, ce: 2.0409, accuracy: 0.6579]\n",
      "accuracy 0.6148\n",
      "Epoch 10/50\n",
      "100% 183/183 [00:32<00:00,  5.71it/s, loss: 2.5820, accurancy: 0.6250]\n",
      "testing...\n",
      "100% 20/20 [00:01<00:00, 17.13it/s, ce: 1.5519, accuracy: 0.7895]\n",
      "accuracy 0.6364\n",
      "Epoch 11/50\n",
      "100% 183/183 [00:32<00:00,  5.71it/s, loss: 2.3509, accurancy: 0.6875]\n",
      "testing...\n",
      "100% 20/20 [00:01<00:00, 17.40it/s, ce: 1.4303, accuracy: 0.8421]\n",
      "accuracy 0.6228\n",
      "Epoch 12/50\n",
      "100% 183/183 [00:32<00:00,  5.70it/s, loss: 2.2304, accurancy: 0.7344]\n",
      "testing...\n",
      "100% 20/20 [00:01<00:00, 16.99it/s, ce: 1.4271, accuracy: 0.8158]\n",
      "accuracy 0.6603\n",
      "Epoch 13/50\n",
      "100% 183/183 [00:32<00:00,  5.71it/s, loss: 2.1342, accurancy: 0.7188]\n",
      "testing...\n",
      "100% 20/20 [00:01<00:00, 17.04it/s, ce: 1.8750, accuracy: 0.6579]\n",
      "accuracy 0.6699\n",
      "Epoch 14/50\n",
      "100% 183/183 [00:32<00:00,  5.69it/s, loss: 2.1548, accurancy: 0.7969]\n",
      "testing...\n",
      "100% 20/20 [00:01<00:00, 17.37it/s, ce: 1.6146, accuracy: 0.7632]\n",
      "accuracy 0.6531\n",
      "Epoch 15/50\n",
      "100% 183/183 [00:32<00:00,  5.68it/s, loss: 1.9959, accurancy: 0.8125]\n",
      "testing...\n",
      "100% 20/20 [00:01<00:00, 17.10it/s, ce: 1.5224, accuracy: 0.8158]\n",
      "accuracy 0.7177\n",
      "Epoch 16/50\n",
      "100% 183/183 [00:32<00:00,  5.69it/s, loss: 1.9849, accurancy: 0.7656]\n",
      "testing...\n",
      "100% 20/20 [00:01<00:00, 17.38it/s, ce: 1.4916, accuracy: 0.8421]\n",
      "accuracy 0.7081\n",
      "Epoch 17/50\n",
      "100% 183/183 [00:32<00:00,  5.70it/s, loss: 2.1062, accurancy: 0.7344]\n",
      "testing...\n",
      "100% 20/20 [00:01<00:00, 17.10it/s, ce: 1.5416, accuracy: 0.7895]\n",
      "accuracy 0.7329\n",
      "Epoch 18/50\n",
      "100% 183/183 [00:32<00:00,  5.70it/s, loss: 1.8424, accurancy: 0.9062]\n",
      "testing...\n",
      "100% 20/20 [00:01<00:00, 17.34it/s, ce: 1.4991, accuracy: 0.8421]\n",
      "accuracy 0.7329\n",
      "Epoch 19/50\n",
      "100% 183/183 [00:32<00:00,  5.69it/s, loss: 1.7995, accurancy: 0.9062]\n",
      "testing...\n",
      "100% 20/20 [00:01<00:00, 17.30it/s, ce: 1.6393, accuracy: 0.8158]\n",
      "accuracy 0.7041\n",
      "Epoch 20/50\n",
      "100% 183/183 [00:32<00:00,  5.68it/s, loss: 1.8538, accurancy: 0.7969]\n",
      "testing...\n",
      "100% 20/20 [00:01<00:00, 16.94it/s, ce: 1.5843, accuracy: 0.7895]\n",
      "accuracy 0.7783\n",
      "Epoch 21/50\n",
      "100% 183/183 [00:32<00:00,  5.69it/s, loss: 1.9135, accurancy: 0.7656]\n",
      "testing...\n",
      "100% 20/20 [00:01<00:00, 17.12it/s, ce: 1.6569, accuracy: 0.8158]\n",
      "accuracy 0.7608\n",
      "Epoch 22/50\n",
      "100% 183/183 [00:32<00:00,  5.69it/s, loss: 1.9363, accurancy: 0.7812]\n",
      "testing...\n",
      "100% 20/20 [00:01<00:00, 16.69it/s, ce: 1.6124, accuracy: 0.7632]\n",
      "accuracy 0.7831\n",
      "Epoch 23/50\n",
      "100% 183/183 [00:32<00:00,  5.68it/s, loss: 1.7029, accurancy: 0.8906]\n",
      "testing...\n",
      "100% 20/20 [00:01<00:00, 17.02it/s, ce: 1.2330, accuracy: 0.8421]\n",
      "accuracy 0.7799\n",
      "Epoch 24/50\n",
      "100% 183/183 [00:32<00:00,  5.68it/s, loss: 1.8357, accurancy: 0.8125]\n",
      "testing...\n",
      "100% 20/20 [00:01<00:00, 17.04it/s, ce: 1.5665, accuracy: 0.8158]\n",
      "accuracy 0.7982\n",
      "Epoch 25/50\n",
      "100% 183/183 [00:32<00:00,  5.70it/s, loss: 1.6170, accurancy: 0.9375]\n",
      "testing...\n",
      "100% 20/20 [00:01<00:00, 16.87it/s, ce: 1.1646, accuracy: 0.8947]\n",
      "accuracy 0.8102\n",
      "Epoch 26/50\n",
      "100% 183/183 [00:32<00:00,  5.71it/s, loss: 1.6333, accurancy: 0.9062]\n",
      "testing...\n",
      "100% 20/20 [00:01<00:00, 16.56it/s, ce: 1.4511, accuracy: 0.7368]\n",
      "accuracy 0.8222\n",
      "Epoch 27/50\n",
      "100% 183/183 [00:32<00:00,  5.71it/s, loss: 1.5381, accurancy: 0.9531]\n",
      "testing...\n",
      "100% 20/20 [00:01<00:00, 17.10it/s, ce: 1.1985, accuracy: 0.8158]\n",
      "accuracy 0.8309\n",
      "Epoch 28/50\n",
      "100% 183/183 [00:32<00:00,  5.71it/s, loss: 1.6350, accurancy: 0.8750]\n",
      "testing...\n",
      "100% 20/20 [00:01<00:00, 16.87it/s, ce: 1.5289, accuracy: 0.7632]\n",
      "accuracy 0.8381\n",
      "Epoch 29/50\n",
      "100% 183/183 [00:32<00:00,  5.71it/s, loss: 1.5175, accurancy: 0.9531]\n",
      "testing...\n",
      "100% 20/20 [00:01<00:00, 17.03it/s, ce: 1.1272, accuracy: 0.8421]\n",
      "accuracy 0.8453\n",
      "Epoch 30/50\n",
      "100% 183/183 [00:32<00:00,  5.71it/s, loss: 1.4474, accurancy: 0.9688]\n",
      "testing...\n",
      "100% 20/20 [00:01<00:00, 17.30it/s, ce: 1.2608, accuracy: 0.8421]\n",
      "accuracy 0.8469\n",
      "Epoch 31/50\n",
      "100% 183/183 [00:32<00:00,  5.71it/s, loss: 1.5619, accurancy: 0.9219]\n",
      "testing...\n",
      "100% 20/20 [00:01<00:00, 17.90it/s, ce: 1.2157, accuracy: 0.8421]\n",
      "accuracy 0.8557\n",
      "Epoch 32/50\n",
      "100% 183/183 [00:31<00:00,  5.72it/s, loss: 1.4277, accurancy: 0.9688]\n",
      "testing...\n",
      "100% 20/20 [00:01<00:00, 17.10it/s, ce: 1.2363, accuracy: 0.8421]\n",
      "accuracy 0.8684\n",
      "Epoch 33/50\n",
      "100% 183/183 [00:31<00:00,  5.73it/s, loss: 1.3854, accurancy: 0.9375]\n",
      "testing...\n",
      "100% 20/20 [00:01<00:00, 17.05it/s, ce: 1.1483, accuracy: 0.8684]\n",
      "accuracy 0.8907\n",
      "Epoch 34/50\n",
      "100% 183/183 [00:31<00:00,  5.73it/s, loss: 1.4174, accurancy: 0.9219]\n",
      "testing...\n",
      "100% 20/20 [00:01<00:00, 17.74it/s, ce: 1.1286, accuracy: 0.8421]\n",
      "accuracy 0.8708\n",
      "Epoch 35/50\n",
      "100% 183/183 [00:31<00:00,  5.72it/s, loss: 1.3375, accurancy: 0.9844]\n",
      "testing...\n",
      "100% 20/20 [00:01<00:00, 17.33it/s, ce: 1.1811, accuracy: 0.8421]\n",
      "accuracy 0.8796\n",
      "Epoch 36/50\n",
      "100% 183/183 [00:32<00:00,  5.70it/s, loss: 1.4501, accurancy: 0.9219]\n",
      "testing...\n",
      "100% 20/20 [00:01<00:00, 17.44it/s, ce: 1.2074, accuracy: 0.8421]\n",
      "accuracy 0.8892\n",
      "Epoch 37/50\n",
      "100% 183/183 [00:32<00:00,  5.72it/s, loss: 1.3035, accurancy: 0.9688]\n",
      "testing...\n",
      "100% 20/20 [00:01<00:00, 17.52it/s, ce: 1.2220, accuracy: 0.8421]\n",
      "accuracy 0.8955\n",
      "Epoch 38/50\n",
      "100% 183/183 [00:32<00:00,  5.71it/s, loss: 1.3471, accurancy: 0.9688]\n",
      "testing...\n",
      "100% 20/20 [00:01<00:00, 17.49it/s, ce: 1.1650, accuracy: 0.8421]\n",
      "accuracy 0.8955\n",
      "Epoch 39/50\n",
      "100% 183/183 [00:32<00:00,  5.72it/s, loss: 1.2681, accurancy: 0.9844]\n",
      "testing...\n",
      "100% 20/20 [00:01<00:00, 17.57it/s, ce: 1.1696, accuracy: 0.8421]\n",
      "accuracy 0.8995\n",
      "Epoch 40/50\n",
      "100% 183/183 [00:31<00:00,  5.72it/s, loss: 1.2757, accurancy: 0.9531]\n",
      "testing...\n",
      "100% 20/20 [00:01<00:00, 17.72it/s, ce: 1.1695, accuracy: 0.8158]\n",
      "accuracy 0.9027\n",
      "Epoch 41/50\n",
      "100% 183/183 [00:32<00:00,  5.72it/s, loss: 1.2172, accurancy: 1.0000]\n",
      "testing...\n",
      "100% 20/20 [00:01<00:00, 17.23it/s, ce: 1.1294, accuracy: 0.8421]\n",
      "accuracy 0.9035\n",
      "Epoch 42/50\n",
      "100% 183/183 [00:32<00:00,  5.71it/s, loss: 1.2196, accurancy: 1.0000]\n",
      "testing...\n",
      "100% 20/20 [00:01<00:00, 17.18it/s, ce: 1.1410, accuracy: 0.8421]\n",
      "accuracy 0.9059\n",
      "Epoch 43/50\n",
      "100% 183/183 [00:32<00:00,  5.72it/s, loss: 1.1939, accurancy: 1.0000]\n",
      "testing...\n",
      "100% 20/20 [00:01<00:00, 17.03it/s, ce: 1.1644, accuracy: 0.8421]\n",
      "accuracy 0.9043\n",
      "Epoch 44/50\n",
      "100% 183/183 [00:31<00:00,  5.72it/s, loss: 1.2631, accurancy: 0.9688]\n",
      "testing...\n",
      "100% 20/20 [00:01<00:00, 17.29it/s, ce: 1.1610, accuracy: 0.8421]\n",
      "accuracy 0.9019\n",
      "Epoch 45/50\n",
      "100% 183/183 [00:32<00:00,  5.71it/s, loss: 1.2135, accurancy: 0.9844]\n",
      "testing...\n",
      "100% 20/20 [00:01<00:00, 17.78it/s, ce: 1.1251, accuracy: 0.8421]\n",
      "accuracy 0.9099\n",
      "Epoch 46/50\n",
      "100% 183/183 [00:32<00:00,  5.71it/s, loss: 1.2619, accurancy: 0.9844]\n",
      "testing...\n",
      "100% 20/20 [00:01<00:00, 18.18it/s, ce: 1.1270, accuracy: 0.8421]\n",
      "accuracy 0.9051\n",
      "Epoch 47/50\n",
      "100% 183/183 [00:32<00:00,  5.71it/s, loss: 1.1952, accurancy: 1.0000]\n",
      "testing...\n",
      "100% 20/20 [00:01<00:00, 17.24it/s, ce: 1.1430, accuracy: 0.8421]\n",
      "accuracy 0.9051\n",
      "Epoch 48/50\n",
      "100% 183/183 [00:32<00:00,  5.71it/s, loss: 1.2459, accurancy: 0.9844]\n",
      "testing...\n",
      "100% 20/20 [00:01<00:00, 17.92it/s, ce: 1.1231, accuracy: 0.8421]\n",
      "accuracy 0.9083\n",
      "Epoch 49/50\n",
      "100% 183/183 [00:32<00:00,  5.71it/s, loss: 1.1879, accurancy: 1.0000]\n",
      "testing...\n",
      "100% 20/20 [00:01<00:00, 18.01it/s, ce: 1.1287, accuracy: 0.8421]\n",
      "accuracy 0.9083\n",
      "Epoch 50/50\n",
      "100% 183/183 [00:32<00:00,  5.71it/s, loss: 1.1994, accurancy: 0.9844]\n",
      "testing...\n",
      "100% 20/20 [00:01<00:00, 17.10it/s, ce: 1.1501, accuracy: 0.8158]\n",
      "accuracy 0.9059\n"
     ]
    }
   ],
   "source": [
    "!python train.py"
   ]
  },
  {
   "cell_type": "code",
   "execution_count": null,
   "metadata": {
    "colab": {
     "base_uri": "https://localhost:8080/"
    },
    "id": "0TRRJ8gR-zUQ",
    "outputId": "7f8499ae-dbd2-4d6b-a46f-616c996431d3"
   },
   "outputs": [
    {
     "name": "stdout",
     "output_type": "stream",
     "text": [
      "ResNetV2-01.h5\n",
      "ResNetV2-11.h5\n",
      "ResNetV2-21.h5\n",
      "ResNetV2-31.h5\n",
      "ResNetV2-41.h5\n",
      "ResNetV2-42.h5\n",
      "ResNetV2-43.h5\n",
      "ResNetV2-44.h5\n",
      "ResNetV2-45.h5\n",
      "ResNetV2-46.h5\n",
      "ResNetV2-47.h5\n",
      "ResNetV2-48.h5\n",
      "ResNetV2-49.h5\n",
      "ResNetV2-50.h5\n",
      "ResNetV2-warmup.h5\n"
     ]
    }
   ],
   "source": [
    "!tar -cvzf 20210415-01.tar.gz *.h5"
   ]
  },
  {
   "cell_type": "code",
   "execution_count": null,
   "metadata": {
    "id": "mpJraw--FzK5"
   },
   "outputs": [],
   "source": [
    "!rm *.h5"
   ]
  },
  {
   "cell_type": "code",
   "execution_count": null,
   "metadata": {
    "colab": {
     "base_uri": "https://localhost:8080/"
    },
    "id": "aPVpXwasmZUy",
    "outputId": "6a9d763e-d6dd-4c0c-bacd-244a31369b61"
   },
   "outputs": [
    {
     "name": "stdout",
     "output_type": "stream",
     "text": [
      "[master 9aaca9e] temp\n",
      " 2 files changed, 2 insertions(+), 2 deletions(-)\n"
     ]
    }
   ],
   "source": [
    "!git add -A\n",
    "!git commit -m \"temp\""
   ]
  },
  {
   "cell_type": "code",
   "execution_count": null,
   "metadata": {
    "id": "ovrGEDSBus5X"
   },
   "outputs": [],
   "source": [
    "!git config --global user.email \"541845219@qq.com\"\n",
    "!git config --global user.name \"SpiritedAwayCN\""
   ]
  },
  {
   "cell_type": "code",
   "execution_count": null,
   "metadata": {
    "id": "kxbwNB7_u1g1"
   },
   "outputs": [],
   "source": []
  }
 ],
 "metadata": {
  "accelerator": "GPU",
  "colab": {
   "collapsed_sections": [],
   "name": "image_recognition_12306.ipynb",
   "provenance": []
  },
  "kernelspec": {
   "display_name": "Python 3",
   "language": "python",
   "name": "python3"
  },
  "language_info": {
   "codemirror_mode": {
    "name": "ipython",
    "version": 3
   },
   "file_extension": ".py",
   "mimetype": "text/x-python",
   "name": "python",
   "nbconvert_exporter": "python",
   "pygments_lexer": "ipython3",
   "version": "3.7.4"
  }
 },
 "nbformat": 4,
 "nbformat_minor": 1
}
