{
 "cells": [
  {
   "cell_type": "code",
   "execution_count": 1,
   "metadata": {},
   "outputs": [],
   "source": [
    "import numpy as np\n",
    "import cv2\n",
    "import os\n",
    "import matplotlib.pyplot as plt"
   ]
  },
  {
   "cell_type": "code",
   "execution_count": 2,
   "metadata": {},
   "outputs": [],
   "source": [
    "easy = np.load('texts.v2.npz')"
   ]
  },
  {
   "cell_type": "code",
   "execution_count": 3,
   "metadata": {},
   "outputs": [
    {
     "data": {
      "text/plain": [
       "(10015, 19, 57)"
      ]
     },
     "execution_count": 3,
     "metadata": {},
     "output_type": "execute_result"
    }
   ],
   "source": [
    "easy['texts'].shape\n",
    "# 5837 5838 5896"
   ]
  },
  {
   "cell_type": "code",
   "execution_count": 3,
   "metadata": {},
   "outputs": [],
   "source": [
    "SKIPPED_DIR = './net/skipped/'\n",
    "# tagged = os.listdir('./net/untagged_imgs/')\n",
    "def skipped_file_gen():\n",
    "    for file_name in os.listdir(SKIPPED_DIR):\n",
    "        id = file_name.partition('.')[0]\n",
    "        yield int(id)\n",
    "\n",
    "file_gen = skipped_file_gen()"
   ]
  },
  {
   "cell_type": "code",
   "execution_count": 4,
   "metadata": {},
   "outputs": [],
   "source": [
    "imid = next(file_gen)"
   ]
  },
  {
   "cell_type": "code",
   "execution_count": 5,
   "metadata": {
    "scrolled": true
   },
   "outputs": [
    {
     "name": "stdout",
     "output_type": "stream",
     "text": [
      "3553\n"
     ]
    },
    {
     "data": {
      "text/plain": [
       "<matplotlib.image.AxesImage at 0x1996f196688>"
      ]
     },
     "execution_count": 5,
     "metadata": {},
     "output_type": "execute_result"
    },
    {
     "data": {
      "image/png": "[encoded data removed]",
      "text/plain": [
       "<Figure size 432x288 with 1 Axes>"
      ]
     },
     "metadata": {
      "needs_background": "light"
     },
     "output_type": "display_data"
    }
   ],
   "source": [
    "print(imid)\n",
    "img = easy['texts'][imid]\n",
    "\n",
    "plt.imshow(img, cmap='gray')"
   ]
  },
  {
   "cell_type": "code",
   "execution_count": 6,
   "metadata": {
    "scrolled": true
   },
   "outputs": [
    {
     "data": {
      "text/plain": [
       "<matplotlib.image.AxesImage at 0x1996f286fc8>"
      ]
     },
     "execution_count": 6,
     "metadata": {},
     "output_type": "execute_result"
    },
    {
     "data": {
      "image/png": "[encoded data removed]",
      "text/plain": [
       "<Figure size 432x288 with 1 Axes>"
      ]
     },
     "metadata": {
      "needs_background": "light"
     },
     "output_type": "display_data"
    }
   ],
   "source": [
    "# text_img2 = cv2.GaussianBlur(img, (3,3), 1)\n",
    "text_img2 = img\n",
    "sobelY = np.array([\n",
    "    [-1, 0, 1],\n",
    "    [-2, 0, 2],\n",
    "    [-1, 0, 1]\n",
    "])\n",
    "\n",
    "plt.imshow(text_img2, cmap='gray')"
   ]
  },
  {
   "cell_type": "code",
   "execution_count": 7,
   "metadata": {
    "scrolled": true
   },
   "outputs": [
    {
     "data": {
      "text/plain": [
       "<matplotlib.image.AxesImage at 0x1996f2f57c8>"
      ]
     },
     "execution_count": 7,
     "metadata": {},
     "output_type": "execute_result"
    },
    {
     "data": {
      "image/png": "[encoded data removed]",
      "text/plain": [
       "<Figure size 432x288 with 1 Axes>"
      ]
     },
     "metadata": {
      "needs_background": "light"
     },
     "output_type": "display_data"
    }
   ],
   "source": [
    "edges = cv2.filter2D(text_img2, -1, sobelY)\n",
    "plt.imshow(edges, cmap='gray')"
   ]
  },
  {
   "cell_type": "code",
   "execution_count": 8,
   "metadata": {
    "scrolled": true
   },
   "outputs": [
    {
     "data": {
      "text/plain": [
       "<matplotlib.image.AxesImage at 0x1996f360888>"
      ]
     },
     "execution_count": 8,
     "metadata": {},
     "output_type": "execute_result"
    },
    {
     "data": {
      "image/png": "[encoded data removed]",
      "text/plain": [
       "<Figure size 432x288 with 1 Axes>"
      ]
     },
     "metadata": {
      "needs_background": "light"
     },
     "output_type": "display_data"
    }
   ],
   "source": [
    "_, thres = cv2.threshold(edges, 0, 1, cv2.THRESH_OTSU)\n",
    "plt.imshow(thres, cmap='gray')"
   ]
  },
  {
   "cell_type": "code",
   "execution_count": 9,
   "metadata": {
    "scrolled": true
   },
   "outputs": [
    {
     "name": "stdout",
     "output_type": "stream",
     "text": [
      "[ 8 44 45]\n"
     ]
    },
    {
     "data": {
      "text/plain": [
       "<matplotlib.image.AxesImage at 0x1996f3ce2c8>"
      ]
     },
     "execution_count": 9,
     "metadata": {},
     "output_type": "execute_result"
    },
    {
     "data": {
      "image/png": "[encoded data removed]",
      "text/plain": [
       "<Figure size 432x288 with 1 Axes>"
      ]
     },
     "metadata": {
      "needs_background": "light"
     },
     "output_type": "display_data"
    }
   ],
   "source": [
    "col_sum = np.sum(thres[:5, :], axis=0)\n",
    "divides = np.argwhere(col_sum > 4).flatten()\n",
    "print(divides)\n",
    "\n",
    "# col = int(round(np.average(divides)))\n",
    "col = np.max(divides)\n",
    "res = img[:, :col]\n",
    "plt.imshow(res, cmap='gray')"
   ]
  },
  {
   "cell_type": "code",
   "execution_count": 10,
   "metadata": {
    "scrolled": true
   },
   "outputs": [
    {
     "data": {
      "text/plain": [
       "True"
      ]
     },
     "execution_count": 10,
     "metadata": {},
     "output_type": "execute_result"
    }
   ],
   "source": [
    "SAVE_DIR = 'net/untagged_imgs/'\n",
    "cv2.imwrite(os.path.join(SAVE_DIR, \"%05d.png\"%(imid)), res)"
   ]
  },
  {
   "cell_type": "code",
   "execution_count": 545,
   "metadata": {},
   "outputs": [],
   "source": [
    "def cropping_img(img):\n",
    "    text_img2 = cv2.GaussianBlur(img, (3,3), 1)\n",
    "    sobelY = np.array([\n",
    "        [-1, 0, 1],\n",
    "        [-2, 0, 2],\n",
    "        [-1, 0, 1]\n",
    "    ])\n",
    "    edges = cv2.filter2D(text_img2, -1, sobelY)\n",
    "    _, thres = cv2.threshold(edges, 0, 1, cv2.THRESH_OTSU)\n",
    "    col_sum = np.sum(thres, axis=0)\n",
    "    divides = np.argwhere(col_sum > 17).flatten()\n",
    "\n",
    "    if len(divides) >= 1:\n",
    "        col = int(round(np.average(divides)))\n",
    "        res = img[:, :col]\n",
    "    else:\n",
    "        res = img\n",
    "    return res"
   ]
  },
  {
   "cell_type": "code",
   "execution_count": 949,
   "metadata": {},
   "outputs": [],
   "source": [
    "SAVE_DIR = 'net/untagged_img0/'\n",
    "\n",
    "for i, img in enumerate(easy['texts']):\n",
    "    res = cropping_img(img)\n",
    "    cv2.imwrite(os.path.join(SAVE_DIR, \"%05d.png\"%(i)), img)"
   ]
  },
  {
   "cell_type": "code",
   "execution_count": 2,
   "metadata": {},
   "outputs": [],
   "source": [
    "easier = np.load('texts.npz')"
   ]
  },
  {
   "cell_type": "code",
   "execution_count": 4,
   "metadata": {},
   "outputs": [
    {
     "data": {
      "text/plain": [
       "(11164,)"
      ]
     },
     "execution_count": 4,
     "metadata": {},
     "output_type": "execute_result"
    }
   ],
   "source": [
    "easier['labels'].shape"
   ]
  },
  {
   "cell_type": "code",
   "execution_count": 10,
   "metadata": {},
   "outputs": [],
   "source": [
    "map_list = [15, 64, 65, 26, 48, 12, 27, 41, 22, 54, 9, 79, 45, 17, 8, 30, 44, 78, 34, 33, 69, 66, 28, 29, 2, 25, 4, 35, 51, 77, 39, 47, 31, 76, 62, 3, 63, 19, 71, 46, 50, 38, 43, 68, 75, 55, 13, 40, 1, 24, 42, 36, 58, 60, 53, 7, 52, 11, 23, 18, 5, 70, 16, 14, 73, 20, 67, 49, 0, 61, 6, 32, 72, 56, 37, 74, 57, 59, 21, 10]\n",
    "DIR = 'net/tagged_imgs_org/'\n",
    "for i, img in enumerate(easier['texts']):\n",
    "    id = map_list[easier['labels'][i]]\n",
    "    d = os.path.join(DIR, \"%02d\"%(id))\n",
    "    if not os.path.exists(d):\n",
    "        os.mkdir(d)\n",
    "    cv2.imwrite(os.path.join(d, \"%05d.png\"%(20000+i)), img)"
   ]
  },
  {
   "cell_type": "code",
   "execution_count": null,
   "metadata": {},
   "outputs": [],
   "source": []
  }
 ],
 "metadata": {
  "kernelspec": {
   "display_name": "Python [conda env:tf2]",
   "language": "python",
   "name": "conda-env-tf2-py"
  },
  "language_info": {
   "codemirror_mode": {
    "name": "ipython",
    "version": 3
   },
   "file_extension": ".py",
   "mimetype": "text/x-python",
   "name": "python",
   "nbconvert_exporter": "python",
   "pygments_lexer": "ipython3",
   "version": "3.7.6"
  }
 },
 "nbformat": 4,
 "nbformat_minor": 2
}
